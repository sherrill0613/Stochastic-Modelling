{
 "cells": [
  {
   "cell_type": "markdown",
   "id": "7ef95bd0",
   "metadata": {},
   "source": [
    "# Project — Part I (Analytical Option Formulae)\n",
    "\n",
    "#### Consider the following European options:\n",
    "• Vanilla call/put\n",
    "\n",
    "• Digital cash-or-nothing call/put\n",
    "\n",
    "• Digital asset-or-nothing call/put\n",
    "\n",
    "### Derive and implement the following models to value these options in Python:\n",
    "1 Black-Scholes model\n",
    "\n",
    "2 Bachelier model\n",
    "\n",
    "3 Black76 model\n",
    "\n",
    "4 Displaced-diffusion model"
   ]
  },
  {
   "cell_type": "code",
   "execution_count": 1,
   "id": "66620f37",
   "metadata": {},
   "outputs": [],
   "source": [
    "import numpy as np\n",
    "from scipy.stats import norm\n",
    "import pandas as  pd"
   ]
  },
  {
   "cell_type": "markdown",
   "id": "8fce9291",
   "metadata": {},
   "source": [
    "### 1. Black_Scholes model"
   ]
  },
  {
   "cell_type": "code",
   "execution_count": 2,
   "id": "1add730f",
   "metadata": {},
   "outputs": [],
   "source": [
    "# Vanilla call/put\n",
    "def BlackScholesVanillaCall(S, K, r, sigma, T):\n",
    "    d1 = (np.log(S/K)+(r+sigma**2/2)*T) / (sigma*np.sqrt(T))\n",
    "    d2 = d1 - sigma*np.sqrt(T)\n",
    "    return S*norm.cdf(d1) - K*np.exp(-r*T)*norm.cdf(d2)\n",
    "\n",
    "def BlackScholesVanillaPut(S, K, r, sigma, T):\n",
    "    d1 = (np.log(S/K)+(r+sigma**2/2)*T) / (sigma*np.sqrt(T))\n",
    "    d2 = d1 - sigma*np.sqrt(T)\n",
    "    return K*np.exp(-r*T)*norm.cdf(-d2) - S*norm.cdf(-d1)\n",
    "\n",
    "# Digital cash-or-nothing call/put\n",
    "def BlackScholesCashOrNothingCall(S, K, r, sigma, T):\n",
    "    d1 = (np.log(S/K)+(r+sigma**2/2)*T) / (sigma*np.sqrt(T))\n",
    "    d2 = d1 - sigma*np.sqrt(T)\n",
    "    return np.exp(-r*T)*norm.cdf(d2)\n",
    "\n",
    "def BlackScholesCashOrNothingPut(S, K, r, sigma, T):\n",
    "    d1 = (np.log(S/K)+(r+sigma**2/2)*T) / (sigma*np.sqrt(T))\n",
    "    d2 = d1 - sigma*np.sqrt(T)\n",
    "    return np.exp(-r*T)*norm.cdf(-d2)\n",
    "\n",
    "# Digital asset-or-nothing call/put\n",
    "def BlackScholesAssetOrNothingCall(S, K, r, sigma, T):\n",
    "    d1 = (np.log(S/K)+(r+sigma**2/2)*T) / (sigma*np.sqrt(T))\n",
    "    d2 = d1 - sigma*np.sqrt(T)\n",
    "    return S*norm.cdf(d1)\n",
    "\n",
    "def BlackScholesAssetOrNothingPut(S, K, r, sigma, T):\n",
    "    d1 = (np.log(S/K)+(r+sigma**2/2)*T) / (sigma*np.sqrt(T))\n",
    "    d2 = d1 - sigma*np.sqrt(T)\n",
    "    return S*norm.cdf(-d1)"
   ]
  },
  {
   "cell_type": "code",
   "execution_count": 7,
   "id": "33f9870a",
   "metadata": {},
   "outputs": [
    {
     "data": {
      "text/plain": [
       "750.0"
      ]
     },
     "execution_count": 7,
     "metadata": {},
     "output_type": "execute_result"
    }
   ],
   "source": [
    "BlackScholesVanillaCall(750, 900, 0, 0.3, 10000)"
   ]
  },
  {
   "cell_type": "markdown",
   "id": "e208003b",
   "metadata": {},
   "source": [
    "### 2. Bachelier model"
   ]
  },
  {
   "cell_type": "code",
   "execution_count": 9,
   "id": "4b7e451a",
   "metadata": {},
   "outputs": [],
   "source": [
    "# Vanilla call/put\n",
    "def BachelierVanillaCall(S, K, r, sigma, T):\n",
    "    d3 = (S-K) / (sigma*np.sqrt(T))\n",
    "    return np.exp(-r * T) * ((S-K)*norm.cdf(d3) + sigma*np.sqrt(T)*norm.pdf(d3))\n",
    "\n",
    "def BachelierVanillaPut(S,K,sigma,T):\n",
    "    d3 = (S-K) / (sigma*np.sqrt(T))\n",
    "    return np.exp(-r * T) * ((K-S)*norm.cdf(-d3) + sigma_N*np.sqrt(T)*norm.pdf(d3))\n",
    "\n",
    "# Digital cash-or-nothing call/put\n",
    "def BachelierCashOrNothingCall(S, K, r, sigma, T):\n",
    "    d3 = (S-K) / (sigma*np.sqrt(T))\n",
    "    return np.exp(-r * T) * norm.cdf(d3)\n",
    "\n",
    "def BachelierCashOrNothingPut(S, K, r, sigma, T):\n",
    "    d3 = (S-K) / (sigma*np.sqrt(T))\n",
    "    return np.exp(-r * T) * norm.cdf(-d3)\n",
    "\n",
    "# Digital asset-or-nothing call/put\n",
    "def BachelierAssetOrNothingCall(S, K, r, sigma, T):\n",
    "    d3 = (S-K) / (sigma*np.sqrt(T))\n",
    "    return np.exp(-r * T) * (S*norm.cdf(d3) + sigma*np.sqrt(T)*norm.pdf(d3))\n",
    "\n",
    "def BachelierAssetOrNothingPut(S, K, r, sigma, T):\n",
    "    d3 = (S-K) / (sigma*np.sqrt(T))\n",
    "    return np.exp(-r * T) * (S*norm.cdf(-d3) - sigma*np.sqrt(T)*norm.pdf(d3))"
   ]
  },
  {
   "cell_type": "code",
   "execution_count": 10,
   "id": "31f0d5f3",
   "metadata": {},
   "outputs": [
    {
     "data": {
      "text/plain": [
       "8.230355669169384e-14"
      ]
     },
     "execution_count": 10,
     "metadata": {},
     "output_type": "execute_result"
    }
   ],
   "source": [
    "BachelierVanillaCall(750, 900, 0, 0.2, 10000)"
   ]
  },
  {
   "cell_type": "markdown",
   "id": "b40d06f0",
   "metadata": {},
   "source": [
    "### 3. Black76 model"
   ]
  },
  {
   "cell_type": "code",
   "execution_count": 4,
   "id": "e84cb992",
   "metadata": {},
   "outputs": [],
   "source": [
    "# Vanilla call/put\n",
    "def Black76VanillaCall(F,K,r,sigma,T):\n",
    "    d1 = (np.log(F/K)+(1/2)*sigma**2*T) / (sigma*np.sqrt(T))\n",
    "    d2 = d1 - sigma*np.sqrt(T)\n",
    "    return np.exp(-r*T)*(F*norm.cdf(d1) - K*norm.cdf(d2))\n",
    "\n",
    "def Black76VanillaPut(F,K,r,sigma,T):\n",
    "    d1 = (np.log(F/K)+(1/2)*sigma**2*T) / (sigma*np.sqrt(T))\n",
    "    d2 = d1 - sigma*np.sqrt(T)\n",
    "    return np.exp(-r*T)*(K*norm.cdf(-d2) - F*norm.cdf(-d1))\n",
    "\n",
    "# Digital cash-or-nothing call/put\n",
    "def Black76CashOrNothingCall(S, K, r, sigma, T):\n",
    "    d1 = (np.log(F/K)+(1/2)*sigma**2*T) / (sigma*np.sqrt(T))\n",
    "    d2 = d1 - sigma*np.sqrt(T)\n",
    "    return np.exp(-r*T)*norm.cdf(d2)\n",
    "\n",
    "def Black76CashOrNothingPut(S, K, r, sigma, T):\n",
    "    d1 = (np.log(F/K)+(1/2)*sigma**2*T) / (sigma*np.sqrt(T))\n",
    "    d2 = d1 - sigma*np.sqrt(T)\n",
    "    return np.exp(-r*T)*norm.cdf(-d2)\n",
    "\n",
    "# Digital asset-or-nothing call/put\n",
    "def Black76AssetOrNothingCall(S, K, r, sigma, T):\n",
    "    d1 = (np.log(F/K)+(1/2)*sigma**2*T) / (sigma*np.sqrt(T))\n",
    "    d2 = d1 - sigma*np.sqrt(T)\n",
    "    return exp(-r*T)*F*norm.cdf(d1)\n",
    "\n",
    "def Black76AssetOrNothingPut(S, K, r, sigma, T):\n",
    "    d1 = (np.log(S/K)+(r+sigma**2/2)*T) / (sigma*np.sqrt(T))\n",
    "    d2 = d1 - sigma*np.sqrt(T)\n",
    "    return S*norm.cdf(-d1)"
   ]
  },
  {
   "cell_type": "markdown",
   "id": "eedc47d7",
   "metadata": {},
   "source": [
    "### 4. Displaced-diffusion model"
   ]
  },
  {
   "cell_type": "code",
   "execution_count": 5,
   "id": "6fc9963c",
   "metadata": {},
   "outputs": [],
   "source": [
    "# Vanilla call/put\n",
    "def Displaced_diffusionVanillaCall(F,K,r,sigma,T,beta):\n",
    "    Fd=F/beta\n",
    "    sigmad=sigma*beta\n",
    "    Kd=K+((1-beta)/beta)*F\n",
    "    d6 = (np.log(Fd/Kd)+(sigmad**2/2)*T) / (sigmad*np.sqrt(T))\n",
    "    d7 = d6 - sigmad*np.sqrt(T)\n",
    "    return np.exp(-r*T)*(Fd*norm.cdf(d6) - Kd*norm.cdf(d7))\n",
    "\n",
    "def Displaced_diffusionVanillaPut(F,K,r,sigma,T,beta):\n",
    "    Fd=F/beta\n",
    "    sigmad=sigma*beta\n",
    "    Kd=K+((1-beta)/beta)*F\n",
    "    d6 = (np.log(Fd/Kd)+(sigmad**2/2)*T) / (sigmad*np.sqrt(T))\n",
    "    d7 = d1 - sigmad*np.sqrt(T)\n",
    "    return np.exp(-r*T)*(Kd*norm.cdf(-d7) - Fd*norm.cdf(-d6))\n",
    "\n",
    "# Digital cash-or-nothing call/put\n",
    "def Displaced_diffusionCashOrNothingCall(F,K,r,sigma,T,beta):\n",
    "    Fd=F/beta\n",
    "    sigmad=sigmad*beta\n",
    "    Kd=K+((1-beta)/beta)*F\n",
    "    d6 = (np.log(Fd/Kd)+(sigmad**2/2)*T) / (sigmad*np.sqrt(T))\n",
    "    d7 = d6 - sigmad*np.sqrt(T)\n",
    "    return np.exp(-r*T)*norm.cdf(d7)\n",
    "def Displaced_diffusionCashOrNothingPut(F,K,r,sigma,T,beta):\n",
    "    Fd=F/beta\n",
    "    sigmad=sigmad*beta\n",
    "    Kd=K+((1-beta)/beta)*F\n",
    "    d6 = (np.log(Fd/Kd)+(sigmad**2/2)*T) / (sigmad*np.sqrt(T))\n",
    "    d7 = d6 - sigmad*np.sqrt(T)\n",
    "    return np.exp(-r*T)*norm.cdf(-d7)\n",
    "\n",
    "# Digital asset-or-nothing call/put\n",
    "def Displaced_diffusionAssetOrNothingCall(F, K, r, sigma, T):\n",
    "    Fd=F/beta\n",
    "    sigmad=sigmad*beta\n",
    "    Kd=K+((1-beta)/beta)*F\n",
    "    d6 = (np.log(Fd/Kd)+(sigmad**2/2)*T) / (sigmad*np.sqrt(T))\n",
    "    d7 = d6 - sigmad*np.sqrt(T)\n",
    "    return np.exp(-r*T)*Fd*norm.cdf(d6)\n",
    "def Displaced_diffusionAssetOrNothingPut(F, K, r, sigma, T):\n",
    "    Fd=F/beta\n",
    "    sigmad=sigmad*beta\n",
    "    Kd=K+((1-beta)/beta)*F\n",
    "    d6 = (np.log(Fd/Kd)+(sigmad**2/2)*T) / (sigmad*np.sqrt(T))\n",
    "    d7 = d6 - sigmad*np.sqrt(T)\n",
    "    return np.exp(-r*T)*Fd*norm.cdf(-d6)"
   ]
  },
  {
   "cell_type": "code",
   "execution_count": null,
   "id": "2d52a739",
   "metadata": {},
   "outputs": [],
   "source": []
  }
 ],
 "metadata": {
  "kernelspec": {
   "display_name": "Python 3 (ipykernel)",
   "language": "python",
   "name": "python3"
  },
  "language_info": {
   "codemirror_mode": {
    "name": "ipython",
    "version": 3
   },
   "file_extension": ".py",
   "mimetype": "text/x-python",
   "name": "python",
   "nbconvert_exporter": "python",
   "pygments_lexer": "ipython3",
   "version": "3.9.7"
  }
 },
 "nbformat": 4,
 "nbformat_minor": 5
}
