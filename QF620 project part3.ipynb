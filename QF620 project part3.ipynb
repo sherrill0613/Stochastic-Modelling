{
 "cells": [
  {
   "cell_type": "code",
   "execution_count": 1,
   "id": "4b142056",
   "metadata": {},
   "outputs": [],
   "source": [
    "import numpy as np\n",
    "import pandas as pd\n",
    "from scipy.integrate import quad\n",
    "from scipy.stats import norm\n",
    "import os"
   ]
  },
  {
   "cell_type": "code",
   "execution_count": 2,
   "id": "6a594d2f",
   "metadata": {},
   "outputs": [
    {
     "data": {
      "text/plain": [
       "'/Users/wumingheng/Desktop'"
      ]
     },
     "execution_count": 2,
     "metadata": {},
     "output_type": "execute_result"
    }
   ],
   "source": [
    "os.getcwd()"
   ]
  },
  {
   "cell_type": "code",
   "execution_count": 3,
   "id": "ff1f4c76",
   "metadata": {},
   "outputs": [],
   "source": [
    "os.chdir('/Users/wumingheng/Desktop/parameters')"
   ]
  },
  {
   "cell_type": "code",
   "execution_count": 4,
   "id": "61ac7a41",
   "metadata": {},
   "outputs": [],
   "source": [
    "zero_rf = pd.read_csv('zero_rates_20201201.csv')"
   ]
  },
  {
   "cell_type": "code",
   "execution_count": 5,
   "id": "814be091",
   "metadata": {
    "scrolled": true
   },
   "outputs": [
    {
     "data": {
      "text/html": [
       "<div>\n",
       "<style scoped>\n",
       "    .dataframe tbody tr th:only-of-type {\n",
       "        vertical-align: middle;\n",
       "    }\n",
       "\n",
       "    .dataframe tbody tr th {\n",
       "        vertical-align: top;\n",
       "    }\n",
       "\n",
       "    .dataframe thead th {\n",
       "        text-align: right;\n",
       "    }\n",
       "</style>\n",
       "<table border=\"1\" class=\"dataframe\">\n",
       "  <thead>\n",
       "    <tr style=\"text-align: right;\">\n",
       "      <th></th>\n",
       "      <th>date</th>\n",
       "      <th>days</th>\n",
       "      <th>rate</th>\n",
       "    </tr>\n",
       "  </thead>\n",
       "  <tbody>\n",
       "    <tr>\n",
       "      <th>0</th>\n",
       "      <td>20201201</td>\n",
       "      <td>7</td>\n",
       "      <td>0.102280</td>\n",
       "    </tr>\n",
       "    <tr>\n",
       "      <th>1</th>\n",
       "      <td>20201201</td>\n",
       "      <td>13</td>\n",
       "      <td>0.114128</td>\n",
       "    </tr>\n",
       "    <tr>\n",
       "      <th>2</th>\n",
       "      <td>20201201</td>\n",
       "      <td>49</td>\n",
       "      <td>0.216480</td>\n",
       "    </tr>\n",
       "    <tr>\n",
       "      <th>3</th>\n",
       "      <td>20201201</td>\n",
       "      <td>77</td>\n",
       "      <td>0.220707</td>\n",
       "    </tr>\n",
       "    <tr>\n",
       "      <th>4</th>\n",
       "      <td>20201201</td>\n",
       "      <td>104</td>\n",
       "      <td>0.219996</td>\n",
       "    </tr>\n",
       "    <tr>\n",
       "      <th>5</th>\n",
       "      <td>20201201</td>\n",
       "      <td>139</td>\n",
       "      <td>0.218208</td>\n",
       "    </tr>\n",
       "    <tr>\n",
       "      <th>6</th>\n",
       "      <td>20201201</td>\n",
       "      <td>167</td>\n",
       "      <td>0.216468</td>\n",
       "    </tr>\n",
       "    <tr>\n",
       "      <th>7</th>\n",
       "      <td>20201201</td>\n",
       "      <td>195</td>\n",
       "      <td>0.215228</td>\n",
       "    </tr>\n",
       "    <tr>\n",
       "      <th>8</th>\n",
       "      <td>20201201</td>\n",
       "      <td>286</td>\n",
       "      <td>0.212862</td>\n",
       "    </tr>\n",
       "    <tr>\n",
       "      <th>9</th>\n",
       "      <td>20201201</td>\n",
       "      <td>377</td>\n",
       "      <td>0.214085</td>\n",
       "    </tr>\n",
       "    <tr>\n",
       "      <th>10</th>\n",
       "      <td>20201201</td>\n",
       "      <td>468</td>\n",
       "      <td>0.222713</td>\n",
       "    </tr>\n",
       "    <tr>\n",
       "      <th>11</th>\n",
       "      <td>20201201</td>\n",
       "      <td>559</td>\n",
       "      <td>0.227707</td>\n",
       "    </tr>\n",
       "    <tr>\n",
       "      <th>12</th>\n",
       "      <td>20201201</td>\n",
       "      <td>657</td>\n",
       "      <td>0.233805</td>\n",
       "    </tr>\n",
       "    <tr>\n",
       "      <th>13</th>\n",
       "      <td>20201201</td>\n",
       "      <td>748</td>\n",
       "      <td>0.240502</td>\n",
       "    </tr>\n",
       "    <tr>\n",
       "      <th>14</th>\n",
       "      <td>20201201</td>\n",
       "      <td>832</td>\n",
       "      <td>0.250499</td>\n",
       "    </tr>\n",
       "    <tr>\n",
       "      <th>15</th>\n",
       "      <td>20201201</td>\n",
       "      <td>930</td>\n",
       "      <td>0.260945</td>\n",
       "    </tr>\n",
       "    <tr>\n",
       "      <th>16</th>\n",
       "      <td>20201201</td>\n",
       "      <td>1021</td>\n",
       "      <td>0.273815</td>\n",
       "    </tr>\n",
       "    <tr>\n",
       "      <th>17</th>\n",
       "      <td>20201201</td>\n",
       "      <td>1112</td>\n",
       "      <td>0.290795</td>\n",
       "    </tr>\n",
       "    <tr>\n",
       "      <th>18</th>\n",
       "      <td>20201201</td>\n",
       "      <td>1203</td>\n",
       "      <td>0.309802</td>\n",
       "    </tr>\n",
       "    <tr>\n",
       "      <th>19</th>\n",
       "      <td>20201201</td>\n",
       "      <td>1294</td>\n",
       "      <td>0.330408</td>\n",
       "    </tr>\n",
       "    <tr>\n",
       "      <th>20</th>\n",
       "      <td>20201201</td>\n",
       "      <td>1385</td>\n",
       "      <td>0.352297</td>\n",
       "    </tr>\n",
       "    <tr>\n",
       "      <th>21</th>\n",
       "      <td>20201201</td>\n",
       "      <td>1476</td>\n",
       "      <td>0.375854</td>\n",
       "    </tr>\n",
       "    <tr>\n",
       "      <th>22</th>\n",
       "      <td>20201201</td>\n",
       "      <td>1567</td>\n",
       "      <td>0.400790</td>\n",
       "    </tr>\n",
       "    <tr>\n",
       "      <th>23</th>\n",
       "      <td>20201201</td>\n",
       "      <td>1658</td>\n",
       "      <td>0.426597</td>\n",
       "    </tr>\n",
       "    <tr>\n",
       "      <th>24</th>\n",
       "      <td>20201201</td>\n",
       "      <td>1749</td>\n",
       "      <td>0.453404</td>\n",
       "    </tr>\n",
       "    <tr>\n",
       "      <th>25</th>\n",
       "      <td>20201201</td>\n",
       "      <td>1840</td>\n",
       "      <td>0.481060</td>\n",
       "    </tr>\n",
       "    <tr>\n",
       "      <th>26</th>\n",
       "      <td>20201201</td>\n",
       "      <td>1931</td>\n",
       "      <td>0.509446</td>\n",
       "    </tr>\n",
       "    <tr>\n",
       "      <th>27</th>\n",
       "      <td>20201201</td>\n",
       "      <td>2022</td>\n",
       "      <td>0.537779</td>\n",
       "    </tr>\n",
       "    <tr>\n",
       "      <th>28</th>\n",
       "      <td>20201201</td>\n",
       "      <td>2113</td>\n",
       "      <td>0.566284</td>\n",
       "    </tr>\n",
       "    <tr>\n",
       "      <th>29</th>\n",
       "      <td>20201201</td>\n",
       "      <td>2204</td>\n",
       "      <td>0.595148</td>\n",
       "    </tr>\n",
       "    <tr>\n",
       "      <th>30</th>\n",
       "      <td>20201201</td>\n",
       "      <td>2295</td>\n",
       "      <td>0.624127</td>\n",
       "    </tr>\n",
       "    <tr>\n",
       "      <th>31</th>\n",
       "      <td>20201201</td>\n",
       "      <td>2386</td>\n",
       "      <td>0.652438</td>\n",
       "    </tr>\n",
       "    <tr>\n",
       "      <th>32</th>\n",
       "      <td>20201201</td>\n",
       "      <td>2477</td>\n",
       "      <td>0.680153</td>\n",
       "    </tr>\n",
       "    <tr>\n",
       "      <th>33</th>\n",
       "      <td>20201201</td>\n",
       "      <td>2568</td>\n",
       "      <td>0.707515</td>\n",
       "    </tr>\n",
       "    <tr>\n",
       "      <th>34</th>\n",
       "      <td>20201201</td>\n",
       "      <td>2659</td>\n",
       "      <td>0.734387</td>\n",
       "    </tr>\n",
       "    <tr>\n",
       "      <th>35</th>\n",
       "      <td>20201201</td>\n",
       "      <td>2757</td>\n",
       "      <td>0.762231</td>\n",
       "    </tr>\n",
       "    <tr>\n",
       "      <th>36</th>\n",
       "      <td>20201201</td>\n",
       "      <td>2848</td>\n",
       "      <td>0.787185</td>\n",
       "    </tr>\n",
       "    <tr>\n",
       "      <th>37</th>\n",
       "      <td>20201201</td>\n",
       "      <td>2939</td>\n",
       "      <td>0.811376</td>\n",
       "    </tr>\n",
       "    <tr>\n",
       "      <th>38</th>\n",
       "      <td>20201201</td>\n",
       "      <td>3030</td>\n",
       "      <td>0.834871</td>\n",
       "    </tr>\n",
       "    <tr>\n",
       "      <th>39</th>\n",
       "      <td>20201201</td>\n",
       "      <td>3121</td>\n",
       "      <td>0.857144</td>\n",
       "    </tr>\n",
       "    <tr>\n",
       "      <th>40</th>\n",
       "      <td>20201201</td>\n",
       "      <td>3212</td>\n",
       "      <td>0.878441</td>\n",
       "    </tr>\n",
       "    <tr>\n",
       "      <th>41</th>\n",
       "      <td>20201201</td>\n",
       "      <td>3303</td>\n",
       "      <td>0.898843</td>\n",
       "    </tr>\n",
       "    <tr>\n",
       "      <th>42</th>\n",
       "      <td>20201201</td>\n",
       "      <td>3394</td>\n",
       "      <td>0.918827</td>\n",
       "    </tr>\n",
       "    <tr>\n",
       "      <th>43</th>\n",
       "      <td>20201201</td>\n",
       "      <td>3485</td>\n",
       "      <td>0.938031</td>\n",
       "    </tr>\n",
       "    <tr>\n",
       "      <th>44</th>\n",
       "      <td>20201201</td>\n",
       "      <td>3576</td>\n",
       "      <td>0.956515</td>\n",
       "    </tr>\n",
       "  </tbody>\n",
       "</table>\n",
       "</div>"
      ],
      "text/plain": [
       "        date  days      rate\n",
       "0   20201201     7  0.102280\n",
       "1   20201201    13  0.114128\n",
       "2   20201201    49  0.216480\n",
       "3   20201201    77  0.220707\n",
       "4   20201201   104  0.219996\n",
       "5   20201201   139  0.218208\n",
       "6   20201201   167  0.216468\n",
       "7   20201201   195  0.215228\n",
       "8   20201201   286  0.212862\n",
       "9   20201201   377  0.214085\n",
       "10  20201201   468  0.222713\n",
       "11  20201201   559  0.227707\n",
       "12  20201201   657  0.233805\n",
       "13  20201201   748  0.240502\n",
       "14  20201201   832  0.250499\n",
       "15  20201201   930  0.260945\n",
       "16  20201201  1021  0.273815\n",
       "17  20201201  1112  0.290795\n",
       "18  20201201  1203  0.309802\n",
       "19  20201201  1294  0.330408\n",
       "20  20201201  1385  0.352297\n",
       "21  20201201  1476  0.375854\n",
       "22  20201201  1567  0.400790\n",
       "23  20201201  1658  0.426597\n",
       "24  20201201  1749  0.453404\n",
       "25  20201201  1840  0.481060\n",
       "26  20201201  1931  0.509446\n",
       "27  20201201  2022  0.537779\n",
       "28  20201201  2113  0.566284\n",
       "29  20201201  2204  0.595148\n",
       "30  20201201  2295  0.624127\n",
       "31  20201201  2386  0.652438\n",
       "32  20201201  2477  0.680153\n",
       "33  20201201  2568  0.707515\n",
       "34  20201201  2659  0.734387\n",
       "35  20201201  2757  0.762231\n",
       "36  20201201  2848  0.787185\n",
       "37  20201201  2939  0.811376\n",
       "38  20201201  3030  0.834871\n",
       "39  20201201  3121  0.857144\n",
       "40  20201201  3212  0.878441\n",
       "41  20201201  3303  0.898843\n",
       "42  20201201  3394  0.918827\n",
       "43  20201201  3485  0.938031\n",
       "44  20201201  3576  0.956515"
      ]
     },
     "execution_count": 5,
     "metadata": {},
     "output_type": "execute_result"
    }
   ],
   "source": [
    "zero_rf"
   ]
  },
  {
   "cell_type": "code",
   "execution_count": 6,
   "id": "d09e4d7a",
   "metadata": {},
   "outputs": [],
   "source": [
    "import matplotlib.pyplot as plt"
   ]
  },
  {
   "cell_type": "code",
   "execution_count": 55,
   "id": "4626990b",
   "metadata": {
    "scrolled": false
   },
   "outputs": [
    {
     "data": {
      "text/plain": [
       "Text(0.5, 0, 'Days')"
      ]
     },
     "execution_count": 55,
     "metadata": {},
     "output_type": "execute_result"
    },
    {
     "data": {
      "image/png": "[encoded data removed]",
      "text/plain": [
       "<Figure size 432x288 with 1 Axes>"
      ]
     },
     "metadata": {
      "needs_background": "light"
     },
     "output_type": "display_data"
    }
   ],
   "source": [
    "plt.plot(zero_rf['days'],zero_rf['rate'])\n",
    "plt.title('term structure')\n",
    "plt.ylabel('Interest rate')\n",
    "plt.xlabel('Days')"
   ]
  },
  {
   "cell_type": "code",
   "execution_count": 8,
   "id": "d23cc521",
   "metadata": {},
   "outputs": [],
   "source": [
    "sabr_para_SPX = pd.read_csv('sabr_para_SPX.csv')\n",
    "rf_SPX = pd.read_csv('rf_SPX.csv')\n",
    "vol_SPX = pd.read_csv('vol_SPX.csv')\n",
    "sabr_para_SPY = pd.read_csv('sabr_para_SPY.csv')\n",
    "rf_SPY = pd.read_csv('rf_SPY.csv')\n",
    "vol_SPY = pd.read_csv('vol_SPY.csv')"
   ]
  },
  {
   "cell_type": "code",
   "execution_count": 9,
   "id": "9c41cb36",
   "metadata": {},
   "outputs": [],
   "source": [
    "SPY_options = pd.read_csv('SPY_options.csv')"
   ]
  },
  {
   "cell_type": "code",
   "execution_count": 10,
   "id": "736f20c5",
   "metadata": {},
   "outputs": [],
   "source": [
    "SPX_options = pd.read_csv('SPX_options.csv')"
   ]
  },
  {
   "cell_type": "code",
   "execution_count": 11,
   "id": "f81e1be0",
   "metadata": {},
   "outputs": [],
   "source": [
    "sabr_para_SPX.drop(columns = {'Unnamed: 0'},inplace = True)"
   ]
  },
  {
   "cell_type": "code",
   "execution_count": 12,
   "id": "2083fd04",
   "metadata": {},
   "outputs": [
    {
     "data": {
      "text/html": [
       "<div>\n",
       "<style scoped>\n",
       "    .dataframe tbody tr th:only-of-type {\n",
       "        vertical-align: middle;\n",
       "    }\n",
       "\n",
       "    .dataframe tbody tr th {\n",
       "        vertical-align: top;\n",
       "    }\n",
       "\n",
       "    .dataframe thead th {\n",
       "        text-align: right;\n",
       "    }\n",
       "</style>\n",
       "<table border=\"1\" class=\"dataframe\">\n",
       "  <thead>\n",
       "    <tr style=\"text-align: right;\">\n",
       "      <th></th>\n",
       "      <th>alpha</th>\n",
       "      <th>beta</th>\n",
       "      <th>rho</th>\n",
       "      <th>nu</th>\n",
       "    </tr>\n",
       "  </thead>\n",
       "  <tbody>\n",
       "    <tr>\n",
       "      <th>0</th>\n",
       "      <td>1.212290</td>\n",
       "      <td>0.7</td>\n",
       "      <td>-0.300900</td>\n",
       "      <td>5.459761</td>\n",
       "    </tr>\n",
       "    <tr>\n",
       "      <th>1</th>\n",
       "      <td>1.816504</td>\n",
       "      <td>0.7</td>\n",
       "      <td>-0.404302</td>\n",
       "      <td>2.790158</td>\n",
       "    </tr>\n",
       "    <tr>\n",
       "      <th>2</th>\n",
       "      <td>2.140133</td>\n",
       "      <td>0.7</td>\n",
       "      <td>-0.574934</td>\n",
       "      <td>1.841747</td>\n",
       "    </tr>\n",
       "  </tbody>\n",
       "</table>\n",
       "</div>"
      ],
      "text/plain": [
       "      alpha  beta       rho        nu\n",
       "0  1.212290   0.7 -0.300900  5.459761\n",
       "1  1.816504   0.7 -0.404302  2.790158\n",
       "2  2.140133   0.7 -0.574934  1.841747"
      ]
     },
     "execution_count": 12,
     "metadata": {},
     "output_type": "execute_result"
    }
   ],
   "source": [
    "sabr_para_SPX"
   ]
  },
  {
   "cell_type": "code",
   "execution_count": 13,
   "id": "02016457",
   "metadata": {},
   "outputs": [],
   "source": [
    "rf_SPX.drop(columns = {'Unnamed: 0'},inplace = True)"
   ]
  },
  {
   "cell_type": "code",
   "execution_count": 14,
   "id": "4ab7e40f",
   "metadata": {
    "scrolled": true
   },
   "outputs": [
    {
     "data": {
      "text/html": [
       "<div>\n",
       "<style scoped>\n",
       "    .dataframe tbody tr th:only-of-type {\n",
       "        vertical-align: middle;\n",
       "    }\n",
       "\n",
       "    .dataframe tbody tr th {\n",
       "        vertical-align: top;\n",
       "    }\n",
       "\n",
       "    .dataframe thead th {\n",
       "        text-align: right;\n",
       "    }\n",
       "</style>\n",
       "<table border=\"1\" class=\"dataframe\">\n",
       "  <thead>\n",
       "    <tr style=\"text-align: right;\">\n",
       "      <th></th>\n",
       "      <th>rf</th>\n",
       "      <th>T</th>\n",
       "    </tr>\n",
       "  </thead>\n",
       "  <tbody>\n",
       "    <tr>\n",
       "      <th>0</th>\n",
       "      <td>0.001255</td>\n",
       "      <td>17</td>\n",
       "    </tr>\n",
       "    <tr>\n",
       "      <th>1</th>\n",
       "      <td>0.002051</td>\n",
       "      <td>45</td>\n",
       "    </tr>\n",
       "    <tr>\n",
       "      <th>2</th>\n",
       "      <td>0.002206</td>\n",
       "      <td>80</td>\n",
       "    </tr>\n",
       "  </tbody>\n",
       "</table>\n",
       "</div>"
      ],
      "text/plain": [
       "         rf   T\n",
       "0  0.001255  17\n",
       "1  0.002051  45\n",
       "2  0.002206  80"
      ]
     },
     "execution_count": 14,
     "metadata": {},
     "output_type": "execute_result"
    }
   ],
   "source": [
    "rf_SPX"
   ]
  },
  {
   "cell_type": "code",
   "execution_count": 15,
   "id": "710bdabf",
   "metadata": {},
   "outputs": [],
   "source": [
    "vol_SPX.drop(columns = {'Unnamed: 0'},inplace = True)"
   ]
  },
  {
   "cell_type": "code",
   "execution_count": 16,
   "id": "6aebc0e7",
   "metadata": {},
   "outputs": [],
   "source": [
    "vol_SPX = vol_SPX.pivot_table(columns = {'implied_vol'})"
   ]
  },
  {
   "cell_type": "code",
   "execution_count": 17,
   "id": "694d24b3",
   "metadata": {},
   "outputs": [],
   "source": [
    "vol_SPX = vol_SPX.reset_index().drop(columns = {'index'})"
   ]
  },
  {
   "cell_type": "code",
   "execution_count": 18,
   "id": "60fad580",
   "metadata": {},
   "outputs": [],
   "source": [
    "sabr_para_SPY.drop(columns = {'Unnamed: 0'},inplace = True)"
   ]
  },
  {
   "cell_type": "code",
   "execution_count": 19,
   "id": "b304cd17",
   "metadata": {},
   "outputs": [
    {
     "data": {
      "text/html": [
       "<div>\n",
       "<style scoped>\n",
       "    .dataframe tbody tr th:only-of-type {\n",
       "        vertical-align: middle;\n",
       "    }\n",
       "\n",
       "    .dataframe tbody tr th {\n",
       "        vertical-align: top;\n",
       "    }\n",
       "\n",
       "    .dataframe thead th {\n",
       "        text-align: right;\n",
       "    }\n",
       "</style>\n",
       "<table border=\"1\" class=\"dataframe\">\n",
       "  <thead>\n",
       "    <tr style=\"text-align: right;\">\n",
       "      <th></th>\n",
       "      <th>alpha</th>\n",
       "      <th>beta</th>\n",
       "      <th>rho</th>\n",
       "      <th>nu</th>\n",
       "    </tr>\n",
       "  </thead>\n",
       "  <tbody>\n",
       "    <tr>\n",
       "      <th>0</th>\n",
       "      <td>0.665402</td>\n",
       "      <td>0.7</td>\n",
       "      <td>-0.411900</td>\n",
       "      <td>5.249981</td>\n",
       "    </tr>\n",
       "    <tr>\n",
       "      <th>1</th>\n",
       "      <td>0.908133</td>\n",
       "      <td>0.7</td>\n",
       "      <td>-0.488779</td>\n",
       "      <td>2.728516</td>\n",
       "    </tr>\n",
       "    <tr>\n",
       "      <th>2</th>\n",
       "      <td>1.120924</td>\n",
       "      <td>0.7</td>\n",
       "      <td>-0.632939</td>\n",
       "      <td>1.742225</td>\n",
       "    </tr>\n",
       "  </tbody>\n",
       "</table>\n",
       "</div>"
      ],
      "text/plain": [
       "      alpha  beta       rho        nu\n",
       "0  0.665402   0.7 -0.411900  5.249981\n",
       "1  0.908133   0.7 -0.488779  2.728516\n",
       "2  1.120924   0.7 -0.632939  1.742225"
      ]
     },
     "execution_count": 19,
     "metadata": {},
     "output_type": "execute_result"
    }
   ],
   "source": [
    "sabr_para_SPY"
   ]
  },
  {
   "cell_type": "code",
   "execution_count": 20,
   "id": "922c9400",
   "metadata": {},
   "outputs": [],
   "source": [
    "SPX_data = pd.concat([rf_SPX,sabr_para_SPX,vol_SPX],axis = 1)"
   ]
  },
  {
   "cell_type": "code",
   "execution_count": 21,
   "id": "2b220ba7",
   "metadata": {},
   "outputs": [
    {
     "data": {
      "text/html": [
       "<div>\n",
       "<style scoped>\n",
       "    .dataframe tbody tr th:only-of-type {\n",
       "        vertical-align: middle;\n",
       "    }\n",
       "\n",
       "    .dataframe tbody tr th {\n",
       "        vertical-align: top;\n",
       "    }\n",
       "\n",
       "    .dataframe thead th {\n",
       "        text-align: right;\n",
       "    }\n",
       "</style>\n",
       "<table border=\"1\" class=\"dataframe\">\n",
       "  <thead>\n",
       "    <tr style=\"text-align: right;\">\n",
       "      <th></th>\n",
       "      <th>rf</th>\n",
       "      <th>T</th>\n",
       "      <th>alpha</th>\n",
       "      <th>beta</th>\n",
       "      <th>rho</th>\n",
       "      <th>nu</th>\n",
       "      <th>implied_vol</th>\n",
       "    </tr>\n",
       "  </thead>\n",
       "  <tbody>\n",
       "    <tr>\n",
       "      <th>0</th>\n",
       "      <td>0.001255</td>\n",
       "      <td>17</td>\n",
       "      <td>1.212290</td>\n",
       "      <td>0.7</td>\n",
       "      <td>-0.300900</td>\n",
       "      <td>5.459761</td>\n",
       "      <td>0.175099</td>\n",
       "    </tr>\n",
       "    <tr>\n",
       "      <th>1</th>\n",
       "      <td>0.002051</td>\n",
       "      <td>45</td>\n",
       "      <td>1.816504</td>\n",
       "      <td>0.7</td>\n",
       "      <td>-0.404302</td>\n",
       "      <td>2.790158</td>\n",
       "      <td>0.185372</td>\n",
       "    </tr>\n",
       "    <tr>\n",
       "      <th>2</th>\n",
       "      <td>0.002206</td>\n",
       "      <td>80</td>\n",
       "      <td>2.140133</td>\n",
       "      <td>0.7</td>\n",
       "      <td>-0.574934</td>\n",
       "      <td>1.841747</td>\n",
       "      <td>0.190973</td>\n",
       "    </tr>\n",
       "  </tbody>\n",
       "</table>\n",
       "</div>"
      ],
      "text/plain": [
       "         rf   T     alpha  beta       rho        nu  implied_vol\n",
       "0  0.001255  17  1.212290   0.7 -0.300900  5.459761     0.175099\n",
       "1  0.002051  45  1.816504   0.7 -0.404302  2.790158     0.185372\n",
       "2  0.002206  80  2.140133   0.7 -0.574934  1.841747     0.190973"
      ]
     },
     "execution_count": 21,
     "metadata": {},
     "output_type": "execute_result"
    }
   ],
   "source": [
    "SPX_data# get all parameters of SPX options"
   ]
  },
  {
   "cell_type": "code",
   "execution_count": 22,
   "id": "4afb9931",
   "metadata": {},
   "outputs": [],
   "source": [
    "rf_SPY.drop(columns = {'Unnamed: 0'},inplace = True)"
   ]
  },
  {
   "cell_type": "code",
   "execution_count": 23,
   "id": "25fe8727",
   "metadata": {},
   "outputs": [
    {
     "data": {
      "text/html": [
       "<div>\n",
       "<style scoped>\n",
       "    .dataframe tbody tr th:only-of-type {\n",
       "        vertical-align: middle;\n",
       "    }\n",
       "\n",
       "    .dataframe tbody tr th {\n",
       "        vertical-align: top;\n",
       "    }\n",
       "\n",
       "    .dataframe thead th {\n",
       "        text-align: right;\n",
       "    }\n",
       "</style>\n",
       "<table border=\"1\" class=\"dataframe\">\n",
       "  <thead>\n",
       "    <tr style=\"text-align: right;\">\n",
       "      <th></th>\n",
       "      <th>rf</th>\n",
       "      <th>T</th>\n",
       "    </tr>\n",
       "  </thead>\n",
       "  <tbody>\n",
       "    <tr>\n",
       "      <th>0</th>\n",
       "      <td>0.001255</td>\n",
       "      <td>17</td>\n",
       "    </tr>\n",
       "    <tr>\n",
       "      <th>1</th>\n",
       "      <td>0.002051</td>\n",
       "      <td>45</td>\n",
       "    </tr>\n",
       "    <tr>\n",
       "      <th>2</th>\n",
       "      <td>0.002206</td>\n",
       "      <td>80</td>\n",
       "    </tr>\n",
       "  </tbody>\n",
       "</table>\n",
       "</div>"
      ],
      "text/plain": [
       "         rf   T\n",
       "0  0.001255  17\n",
       "1  0.002051  45\n",
       "2  0.002206  80"
      ]
     },
     "execution_count": 23,
     "metadata": {},
     "output_type": "execute_result"
    }
   ],
   "source": [
    "rf_SPY"
   ]
  },
  {
   "cell_type": "code",
   "execution_count": 24,
   "id": "ae662444",
   "metadata": {
    "scrolled": true
   },
   "outputs": [],
   "source": [
    "vol_SPY.drop(columns = {'Unnamed: 0'},inplace = True)"
   ]
  },
  {
   "cell_type": "code",
   "execution_count": 25,
   "id": "0042be93",
   "metadata": {},
   "outputs": [],
   "source": [
    "vol_SPY = vol_SPY.reset_index().pivot_table(columns = {'implied_vol'})"
   ]
  },
  {
   "cell_type": "code",
   "execution_count": 26,
   "id": "c8333192",
   "metadata": {},
   "outputs": [],
   "source": [
    "vol_SPY = vol_SPY.reset_index()"
   ]
  },
  {
   "cell_type": "code",
   "execution_count": 27,
   "id": "4d2b7f23",
   "metadata": {},
   "outputs": [],
   "source": [
    "SPY_data = pd.concat([rf_SPY,sabr_para_SPY,vol_SPY['implied_vol']],axis = 1)"
   ]
  },
  {
   "cell_type": "code",
   "execution_count": 29,
   "id": "ac100304",
   "metadata": {},
   "outputs": [],
   "source": [
    "def BlackScholesCall(S, K, r, sigma, T):\n",
    "    d1 = (np.log(S/K)+(r+sigma**2/2)*T) / (sigma*np.sqrt(T))\n",
    "    d2 = d1 - sigma*np.sqrt(T)\n",
    "    return S*norm.cdf(d1) - K*np.exp(-r*T)*norm.cdf(d2)\n",
    "\n",
    "\n",
    "def BlackScholesPut(S, K, r, sigma, T):\n",
    "    return BlackScholesCall(S, K, r, sigma, T) - S + K*np.exp(-r*T)\n",
    "\n",
    "\n",
    "def BSM_callintegrand(K, S, r, T, sigma):\n",
    "    price = BlackScholesCall(S, K, r, sigma, T)/K**2\n",
    "    return price\n",
    "\n",
    "\n",
    "def BSM_putintegrand(K, S, r, T, sigma):\n",
    "    price = BlackScholesPut(S, K, r, sigma, T)/K**2\n",
    "    return price"
   ]
  },
  {
   "cell_type": "code",
   "execution_count": 30,
   "id": "73939484",
   "metadata": {},
   "outputs": [],
   "source": [
    "spx_St = 3662.45 #price of underlying asset SPX"
   ]
  },
  {
   "cell_type": "code",
   "execution_count": 31,
   "id": "a0ccf3fc",
   "metadata": {},
   "outputs": [],
   "source": [
    "hf = spx_St**(1/3)+1.5*np.log(spx_St)+10"
   ]
  },
  {
   "cell_type": "code",
   "execution_count": 32,
   "id": "7f7d1a46",
   "metadata": {},
   "outputs": [],
   "source": [
    "F = spx_St*np.exp(SPX_data['rf']*SPX_data['T']/365)"
   ]
  },
  {
   "cell_type": "code",
   "execution_count": 33,
   "id": "ba064001",
   "metadata": {},
   "outputs": [
    {
     "data": {
      "text/plain": [
       "0    3662.664085\n",
       "1    3663.376249\n",
       "2    3664.221473\n",
       "dtype: float64"
      ]
     },
     "execution_count": 33,
     "metadata": {},
     "output_type": "execute_result"
    }
   ],
   "source": [
    "F"
   ]
  },
  {
   "cell_type": "code",
   "execution_count": 34,
   "id": "85fed514",
   "metadata": {},
   "outputs": [],
   "source": [
    "r = SPX_data['rf'][1]\n",
    "T = SPX_data['T'][1]/365\n",
    "sigma = SPX_data['implied_vol'][1]"
   ]
  },
  {
   "cell_type": "code",
   "execution_count": 35,
   "id": "3989d9ca",
   "metadata": {},
   "outputs": [],
   "source": [
    "I_put_BSM = quad(lambda x: ((-2/9)*x**(-5/3)-1.5/x**2)*BSM_putintegrand(x, spx_St, r, T, sigma), 0.0, F[1])\n",
    "I_call_BSM = quad(lambda x: ((-2/9)*x**(-5/3)-1.5/x**2)*BSM_callintegrand(x, spx_St, r, T, sigma), F[1], 5000)\n",
    "E_var_BSM = 2*np.exp(r*T)*(I_put_BSM[0] + I_call_BSM[0])"
   ]
  },
  {
   "cell_type": "code",
   "execution_count": 36,
   "id": "6ec2ec59",
   "metadata": {},
   "outputs": [
    {
     "name": "stdout",
     "output_type": "stream",
     "text": [
      "the expected variance is -1.5630615629653835e-09\n"
     ]
    }
   ],
   "source": [
    "print('the expected variance is',E_var_BSM)"
   ]
  },
  {
   "cell_type": "code",
   "execution_count": 37,
   "id": "a50a9562",
   "metadata": {
    "scrolled": true
   },
   "outputs": [
    {
     "name": "stdout",
     "output_type": "stream",
     "text": [
      "the price of SPX option(at the money) based on Balck-Scholes Model is 37.713596817153615\n"
     ]
    }
   ],
   "source": [
    "price_BSM = np.exp(-r*T)*hf+I_put_BSM[0] + I_call_BSM[0]\n",
    "print('the price of SPX option(at the money) based on Balck-Scholes Model is', price_BSM)"
   ]
  },
  {
   "cell_type": "markdown",
   "id": "24f949e8",
   "metadata": {},
   "source": [
    "# Price of BachelierVanillaCall(SPX)"
   ]
  },
  {
   "cell_type": "code",
   "execution_count": 38,
   "id": "53036e80",
   "metadata": {},
   "outputs": [],
   "source": [
    "def BachelierVanillaCall(S, K, r, sigma, T):\n",
    "    d3 = (S-K) / (sigma*np.sqrt(T))\n",
    "    return np.exp(-r * T) * ((S-K)*norm.cdf(d3) + sigma*np.sqrt(T)*norm.pdf(d3))\n",
    "\n",
    "def BachelierVanillaPut(S,K,r,sigma,T):\n",
    "    d3 = (S-K) / (sigma*np.sqrt(T))\n",
    "    return np.exp(-r * T) * ((K-S)*norm.cdf(-d3) + sigma*np.sqrt(T)*norm.pdf(d3))\n",
    "\n",
    "\n",
    "def Bachelier_callintegrand(K, S, r, sigma, T):\n",
    "    price = ((-2/9)*K**(-5/3)-1.5/K**2)*BachelierVanillaCall(S, K, r, sigma, T)\n",
    "    return price\n",
    "\n",
    "def Bachelier_callintegrand(K, S, r, sigma, T):\n",
    "    price = ((-2/9)*K**(-5/3)-1.5/K**2)*BachelierVanillaPut(S, K, r, sigma, T)\n",
    "    return price"
   ]
  },
  {
   "cell_type": "code",
   "execution_count": 39,
   "id": "64339458",
   "metadata": {},
   "outputs": [],
   "source": [
    "I_put_Bc = quad(lambda x: ((1/3)*x**(-2/3)+1.5/x)*Bachelier_callintegrand(x, spx_St, r, T, sigma), 0.0, F[1])\n",
    "I_call_Bc = quad(lambda x: ((1/3)*x**(-2/3)+1.5/x)*Bachelier_callintegrand(x, spx_St, r, T, sigma), F[1], 5000)\n",
    "E_var_Bc = 2*np.exp(r*T)*(I_put_Bc[0] + I_call_Bc[0])"
   ]
  },
  {
   "cell_type": "code",
   "execution_count": 40,
   "id": "f7536d98",
   "metadata": {},
   "outputs": [
    {
     "name": "stdout",
     "output_type": "stream",
     "text": [
      "the price of SPX option(at the money) based on Balck-Scholes Model is 37.713596817153615\n"
     ]
    }
   ],
   "source": [
    "price_Bc = np.exp(-r*T)*hf+I_put_BSM[0] + I_call_BSM[0]\n",
    "print('the price of SPX option(at the money) based on Balck-Scholes Model is', price_Bc)"
   ]
  },
  {
   "cell_type": "markdown",
   "id": "e9c314a9",
   "metadata": {},
   "source": [
    "# Price of SABR Model(SPX)"
   ]
  },
  {
   "cell_type": "code",
   "execution_count": 41,
   "id": "a2b72325",
   "metadata": {},
   "outputs": [],
   "source": [
    "def SABR(F, K, T, alpha, beta, rho, nu):\n",
    "    X = K\n",
    "    # if K is at-the-money-forward\n",
    "    if abs(F - K) < 1e-12:\n",
    "        numer1 = (((1 - beta)**2)/24)*alpha*alpha/(F**(2 - 2*beta))\n",
    "        numer2 = 0.25*rho*beta*nu*alpha/(F**(1 - beta))\n",
    "        numer3 = ((2 - 3*rho*rho)/24)*nu*nu\n",
    "        VolAtm = alpha*(1 + (numer1 + numer2 + numer3)*T)/(F**(1-beta))\n",
    "        sabrsigma = VolAtm\n",
    "    else:\n",
    "        z = (nu/alpha)*((F*X)**(0.5*(1-beta)))*np.log(F/X)\n",
    "        zhi = np.log((((1 - 2*rho*z + z*z)**0.5) + z - rho)/(1 - rho))\n",
    "        numer1 = (((1 - beta)**2)/24)*((alpha*alpha)/((F*X)**(1 - beta)))\n",
    "        numer2 = 0.25*rho*beta*nu*alpha/((F*X)**((1 - beta)/2))\n",
    "        numer3 = ((2 - 3*rho*rho)/24)*nu*nu\n",
    "        numer = alpha*(1 + (numer1 + numer2 + numer3)*T)*z\n",
    "        denom1 = ((1 - beta)**2/24)*(np.log(F/X))**2\n",
    "        denom2 = (((1 - beta)**4)/1920)*((np.log(F/X))**4)\n",
    "        denom = ((F*X)**((1 - beta)/2))*(1 + denom1 + denom2)*zhi\n",
    "        sabrsigma = numer/denom\n",
    "\n",
    "    return sabrsigma\n"
   ]
  },
  {
   "cell_type": "code",
   "execution_count": 42,
   "id": "8b268777",
   "metadata": {},
   "outputs": [],
   "source": [
    "def SABRCall(S, K, r, alpha, beta, rho, nu, T):\n",
    "    sabr_vol = SABR(S*np.exp(r*T), K, T, alpha, beta, rho, nu)\n",
    "    return BlackScholesCall(S, K, r, sabr_vol, T)\n",
    "\n",
    "\n",
    "def SABRPut(S, K, r, alpha, beta, rho, nu, T):\n",
    "    sabr_vol = SABR(S*np.exp(r*T), K, T, alpha, beta, rho, nu)\n",
    "    return BlackScholesPut(S, K, r, sabr_vol, T)\n",
    "\n",
    "\n",
    "def sabrcallintegrand(K, S, r, T, alpha, beta, rho, nu):\n",
    "    price = SABRCall(S, K, r, alpha, beta, rho, nu, T) / K**2\n",
    "    return price\n",
    "\n",
    "\n",
    "def sabrputintegrand(K, S, r, T, alpha, beta, rho, nu):\n",
    "    price = SABRPut(S, K, r, alpha, beta, rho, nu, T) / K**2\n",
    "    return price"
   ]
  },
  {
   "cell_type": "code",
   "execution_count": 43,
   "id": "a08426b7",
   "metadata": {},
   "outputs": [],
   "source": [
    "alpha = SPX_data['alpha'][1]\n",
    "beta = SPX_data['beta'][1]\n",
    "rho = SPX_data['rho'][1]\n",
    "nu = SPX_data['nu'][1]"
   ]
  },
  {
   "cell_type": "code",
   "execution_count": 44,
   "id": "589fe2f7",
   "metadata": {},
   "outputs": [
    {
     "name": "stderr",
     "output_type": "stream",
     "text": [
      "<ipython-input-44-65618f82f412>:1: IntegrationWarning: The integral is probably divergent, or slowly convergent.\n",
      "  I_put_sabr = quad(lambda x: ((1/3)*x**(-2/3)+1.5/x)*sabrputintegrand(x, spx_St, r, T, alpha, beta, rho, nu), 1e-6, F[1])\n"
     ]
    }
   ],
   "source": [
    "I_put_sabr = quad(lambda x: ((1/3)*x**(-2/3)+1.5/x)*sabrputintegrand(x, spx_St, r, T, alpha, beta, rho, nu), 1e-6, F[1])\n",
    "I_call_sabr = quad(lambda x: ((1/3)*x**(-2/3)+1.5/x)*sabrcallintegrand(x, spx_St, r, T, alpha, beta, rho, nu), F[1], 5000)\n",
    "E_var_sabr = 2*np.exp(r*T)*(I_put_sabr[0] + I_call_sabr[0])"
   ]
  },
  {
   "cell_type": "code",
   "execution_count": 45,
   "id": "bcb75fcd",
   "metadata": {},
   "outputs": [
    {
     "name": "stdout",
     "output_type": "stream",
     "text": [
      "37.713596817153615\n"
     ]
    }
   ],
   "source": [
    "price_sabr = np.exp(-r*T)*hf+I_put_BSM[0] + I_call_BSM[0]\n",
    "print(price_sabr)"
   ]
  },
  {
   "cell_type": "markdown",
   "id": "f22bcc58",
   "metadata": {},
   "source": [
    "# SPY"
   ]
  },
  {
   "cell_type": "code",
   "execution_count": 46,
   "id": "25c6864d",
   "metadata": {},
   "outputs": [],
   "source": [
    "spy_St = 366.02 #price of underlying asset SPX\n",
    "hfy = spy_St**(1/3)+1.5*np.log(spy_St)+10\n",
    "Fy = spy_St*np.exp(SPY_data['rf']*SPY_data['T']/365)"
   ]
  },
  {
   "cell_type": "code",
   "execution_count": 47,
   "id": "29ddd354",
   "metadata": {},
   "outputs": [
    {
     "data": {
      "text/plain": [
       "0    366.041395\n",
       "1    366.112568\n",
       "2    366.197038\n",
       "3           NaN\n",
       "dtype: float64"
      ]
     },
     "execution_count": 47,
     "metadata": {},
     "output_type": "execute_result"
    }
   ],
   "source": [
    "Fy"
   ]
  },
  {
   "cell_type": "code",
   "execution_count": 48,
   "id": "2c2064ab",
   "metadata": {},
   "outputs": [],
   "source": [
    "ry = SPY_data['rf'][1]\n",
    "Ty = SPY_data['T'][1]/365\n",
    "sigmay = SPY_data['implied_vol'][1]"
   ]
  },
  {
   "cell_type": "code",
   "execution_count": 49,
   "id": "9f390271",
   "metadata": {},
   "outputs": [],
   "source": [
    "I_put_BSM_y = quad(lambda x: ((-2/9)*x**(-5/3)-1.5/x**2)*BSM_putintegrand(x, spy_St, ry, Ty, sigmay), 0.0, Fy[1])\n",
    "I_call_BSM_y = quad(lambda x: ((-2/9)*x**(-5/3)-1.5/x**2)*BSM_callintegrand(x, spy_St, ry, Ty, sigmay), Fy[1], 5000)\n",
    "E_var_BSM_y = 2*np.exp(r*T)*(I_put_BSM_y[0] + I_call_BSM_y[0])"
   ]
  },
  {
   "cell_type": "code",
   "execution_count": 50,
   "id": "ab73f1f9",
   "metadata": {},
   "outputs": [
    {
     "name": "stdout",
     "output_type": "stream",
     "text": [
      "the price of SPY option(at the money) based on Balck-Scholes Model is 26.00067661941665\n"
     ]
    }
   ],
   "source": [
    "price_BSM_y = np.exp(-r*T)*hfy+I_put_BSM_y[0] + I_call_BSM_y[0]\n",
    "print('the price of SPY option(at the money) based on Balck-Scholes Model is', price_BSM_y)"
   ]
  },
  {
   "cell_type": "code",
   "execution_count": 51,
   "id": "72231058",
   "metadata": {},
   "outputs": [],
   "source": [
    "I_put_Bc_y = quad(lambda x: ((1/3)*x**(-2/3)+1.5/x)*Bachelier_callintegrand(x, spy_St, ry, Ty, sigmay), 0.0, Fy[1])\n",
    "I_call_Bc_y = quad(lambda x: ((1/3)*x**(-2/3)+1.5/x)*Bachelier_callintegrand(x, spy_St, ry, Ty, sigmay), Fy[1], 5000)\n",
    "E_var_Bc_y = 2*np.exp(r*T)*(I_put_Bc_y[0] + I_call_Bc_y[0])"
   ]
  },
  {
   "cell_type": "code",
   "execution_count": 52,
   "id": "618b6352",
   "metadata": {},
   "outputs": [
    {
     "name": "stdout",
     "output_type": "stream",
     "text": [
      "the price of SPY option(at the money) based on Balck-Scholes Model is 25.97699613342313\n"
     ]
    }
   ],
   "source": [
    "price_Bc_y = np.exp(-r*T)*hfy+I_put_Bc_y[0] + I_call_Bc_y[0]\n",
    "print('the price of SPY option(at the money) based on Balck-Scholes Model is', price_Bc_y)"
   ]
  },
  {
   "cell_type": "code",
   "execution_count": 53,
   "id": "23925860",
   "metadata": {},
   "outputs": [
    {
     "name": "stderr",
     "output_type": "stream",
     "text": [
      "<ipython-input-53-dd02b05386cd>:1: IntegrationWarning: The maximum number of subdivisions (50) has been achieved.\n",
      "  If increasing the limit yields no improvement it is advised to analyze \n",
      "  the integrand in order to determine the difficulties.  If the position of a \n",
      "  local difficulty can be determined (singularity, discontinuity) one will \n",
      "  probably gain from splitting up the interval and calling the integrator \n",
      "  on the subranges.  Perhaps a special-purpose integrator should be used.\n",
      "  I_put_sabr_y = quad(lambda x: ((1/3)*x**(-2/3)+1.5/x)*sabrputintegrand(x, spy_St, ry, Ty, alpha, beta, rho, nu), 1e-6, F[1])\n"
     ]
    }
   ],
   "source": [
    "I_put_sabr_y = quad(lambda x: ((1/3)*x**(-2/3)+1.5/x)*sabrputintegrand(x, spy_St, ry, Ty, alpha, beta, rho, nu), 1e-6, F[1])\n",
    "I_call_sabr_y = quad(lambda x: ((1/3)*x**(-2/3)+1.5/x)*sabrcallintegrand(x, spy_St, ry, Ty, alpha, beta, rho, nu), F[1], 5000)\n",
    "E_var_sabr_y = 2*np.exp(r*T)*(I_put_sabr_y[0] + I_call_sabr_y[0])"
   ]
  },
  {
   "cell_type": "code",
   "execution_count": 54,
   "id": "23ecc0ac",
   "metadata": {},
   "outputs": [
    {
     "name": "stdout",
     "output_type": "stream",
     "text": [
      "the price of SPY option(at the money) based on Balck-Scholes Model is 26.00067661941665\n"
     ]
    }
   ],
   "source": [
    "price_sabr_y = np.exp(-r*T)*hfy+I_put_BSM_y[0] + I_call_BSM_y[0]\n",
    "print('the price of SPY option(at the money) based on Balck-Scholes Model is',price_sabr_y)"
   ]
  }
 ],
 "metadata": {
  "kernelspec": {
   "display_name": "Python 3",
   "language": "python",
   "name": "python3"
  },
  "language_info": {
   "codemirror_mode": {
    "name": "ipython",
    "version": 3
   },
   "file_extension": ".py",
   "mimetype": "text/x-python",
   "name": "python",
   "nbconvert_exporter": "python",
   "pygments_lexer": "ipython3",
   "version": "3.8.8"
  }
 },
 "nbformat": 4,
 "nbformat_minor": 5
}
