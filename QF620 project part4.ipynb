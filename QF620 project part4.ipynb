{
 "cells": [
  {
   "cell_type": "code",
   "execution_count": 1,
   "id": "30bbd5cf",
   "metadata": {},
   "outputs": [],
   "source": [
    "import pandas as pd\n",
    "import numpy as np\n",
    "import matplotlib.pyplot as plt\n",
    "from scipy.stats import norm\n",
    "from matplotlib.ticker import PercentFormatter\n",
    "\n",
    "def simulate_Brownian_Motion(paths, steps, T):\n",
    "    deltaT = T/steps\n",
    "    t = np.linspace(0, T, steps+1)\n",
    "    X = np.c_[np.zeros((paths, 1)),\n",
    "              np.random.randn(paths, steps)]\n",
    "    return t, np.cumsum(np.sqrt(deltaT) * X, axis=1)\n",
    "\n",
    "def BlackScholesCall(S, K, r, sigma, T):\n",
    "    d1 = (np.log(S/K)+(r+sigma**2/2)*T) / (sigma*np.sqrt(T))\n",
    "    d2 = d1 - sigma*np.sqrt(T)\n",
    "    return S*norm.cdf(d1) - K*np.exp(-r*T)*norm.cdf(d2)\n",
    "\n",
    "def phi(S, K, r, sigma, T):\n",
    "    d1 = (np.log(S/K)+(r+sigma**2/2)*T) / (sigma*np.sqrt(T))\n",
    "    return norm.cdf(d1)\n",
    "\n",
    "def psi_Bt(S, K, r, sigma, T):\n",
    "    d1 = (np.log(S/K)+(r+sigma**2/2)*T) / (sigma*np.sqrt(T))\n",
    "    d2 = d1 - sigma*np.sqrt(T)\n",
    "    return -K*np.exp(-r*T)*norm.cdf(d2)"
   ]
  },
  {
   "cell_type": "code",
   "execution_count": 2,
   "id": "e7216d76",
   "metadata": {},
   "outputs": [],
   "source": [
    "paths = 50000\n",
    "\n",
    "S0 = 100\n",
    "K = 100\n",
    "T = 1/12\n",
    "sigma = 0.2\n",
    "r = 0.05"
   ]
  },
  {
   "cell_type": "code",
   "execution_count": 3,
   "id": "eecbb949",
   "metadata": {},
   "outputs": [
    {
     "data": {
      "image/png": "[encoded data removed]",
      "text/plain": [
       "<Figure size 432x288 with 1 Axes>"
      ]
     },
     "metadata": {
      "needs_background": "light"
     },
     "output_type": "display_data"
    },
    {
     "name": "stdout",
     "output_type": "stream",
     "text": [
      "C0 2.5120670860398846\n",
      "mean -0.13703582630009853\n",
      "std 0.42510275308523304\n",
      "StDev of P&L as a % of option premium 0.16922428363781508\n"
     ]
    }
   ],
   "source": [
    "steps = N = 21\n",
    "t, Wt = simulate_Brownian_Motion(paths, steps, T)\n",
    "Stockprice = S0*np.exp((r-sigma**2/2)*T + sigma*Wt)\n",
    "dt = T / steps\n",
    "error = 0\n",
    "\n",
    "for i in range(N):\n",
    "    ST = Stockprice[:,i]\n",
    "    ST_1 = Stockprice[:,i+1]\n",
    "    deltaT = T-t[i]\n",
    "    \n",
    "    Phi = phi(ST, K, r, sigma, deltaT)\n",
    "    Bt_Psi = psi_Bt(ST, K, r, sigma, deltaT)\n",
    "    error += (ST_1*Phi+Bt_Psi*np.exp(r*dt))-(ST*Phi+Bt_Psi)\n",
    "    \n",
    "C0 = BlackScholesCall(S0, K, r, sigma, T)\n",
    "error = error + C0 - np.maximum(Stockprice[:,N]-K, 0)\n",
    "mean_1 = error.mean()\n",
    "std_1 = error.std()\n",
    "proportion_1 = std_1 / C0\n",
    "Price_Check=S0*np.exp(r*T)\n",
    "\n",
    "plt.hist(error,weights=np.ones(len(error))/len(error),bins=np.linspace(-2,2,40))\n",
    "plt.gca().yaxis.set_major_formatter(PercentFormatter(1))\n",
    "\n",
    "plt.xlabel('Final profit/loss(error)')\n",
    "plt.ylabel('Frequency (out of 100%)')\n",
    "plt.title('hedging error')\n",
    "plt.grid(alpha = 0.3)\n",
    "plt.ylim(0,0.15)\n",
    "plt.show()\n",
    "\n",
    "print('C0',C0)\n",
    "print('mean',mean_1)\n",
    "print('std',std_1)\n",
    "print('StDev of P&L as a % of option premium',proportion_1)"
   ]
  },
  {
   "cell_type": "code",
   "execution_count": 4,
   "id": "a2750e1a",
   "metadata": {},
   "outputs": [
    {
     "name": "stdout",
     "output_type": "stream",
     "text": [
      "C0 2.5120670860398846\n",
      "mean -0.13698823275649677\n",
      "std 0.21691933804094127\n",
      "StDev of P&L as a % of option premium 0.08635093355842695\n"
     ]
    },
    {
     "data": {
      "image/png": "[encoded data removed]",
      "text/plain": [
       "<Figure size 432x288 with 1 Axes>"
      ]
     },
     "metadata": {
      "needs_background": "light"
     },
     "output_type": "display_data"
    }
   ],
   "source": [
    "steps = N = 84\n",
    "t, Wt = simulate_Brownian_Motion(paths, steps, T)\n",
    "Stockprice = S0*np.exp((r-sigma**2/2)*T + sigma*Wt)\n",
    "dt = T / steps\n",
    "error=0\n",
    "\n",
    "for i in range(N):\n",
    "    ST=Stockprice[:,i]\n",
    "    ST_1=Stockprice[:,i+1]\n",
    "    deltaT=T-t[i]\n",
    "    \n",
    "    Phi=phi(ST, K, r, sigma, deltaT)\n",
    "    Bt_Psi=psi_Bt(ST, K, r, sigma, deltaT)\n",
    "    error+=(ST_1*Phi+Bt_Psi*np.exp(r*dt))-(ST*Phi+Bt_Psi)\n",
    "    \n",
    "C0 = BlackScholesCall(S0, K, r, sigma, T)\n",
    "error = error + C0 - np.maximum(Stockprice[:,N]-K, 0)\n",
    "mean_2 = error.mean()\n",
    "std_2 = error.std()\n",
    "proportion_2 = std_2 / C0\n",
    "Price_Check=S0*np.exp(r*T)\n",
    "\n",
    "plt.hist(error,weights=np.ones(len(error))/len(error),bins=np.linspace(-2,2,40))\n",
    "plt.gca().yaxis.set_major_formatter(PercentFormatter(1))\n",
    "\n",
    "plt.xlabel('Final profit/loss(error)')\n",
    "plt.ylabel('Frequency (out of 100%)')\n",
    "plt.title('hedging error')\n",
    "plt.grid(alpha = 0.3)\n",
    "plt.ylim(0,0.25)\n",
    "\n",
    "print('C0',C0)\n",
    "print('mean',mean_2)\n",
    "print('std',std_2)\n",
    "print('StDev of P&L as a % of option premium',proportion_2)"
   ]
  },
  {
   "cell_type": "code",
   "execution_count": 5,
   "id": "ca8f7fee",
   "metadata": {},
   "outputs": [
    {
     "data": {
      "text/html": [
       "<div>\n",
       "<style scoped>\n",
       "    .dataframe tbody tr th:only-of-type {\n",
       "        vertical-align: middle;\n",
       "    }\n",
       "\n",
       "    .dataframe tbody tr th {\n",
       "        vertical-align: top;\n",
       "    }\n",
       "\n",
       "    .dataframe thead th {\n",
       "        text-align: right;\n",
       "    }\n",
       "</style>\n",
       "<table border=\"1\" class=\"dataframe\">\n",
       "  <thead>\n",
       "    <tr style=\"text-align: right;\">\n",
       "      <th></th>\n",
       "      <th>Number of Trades</th>\n",
       "      <th>Mean P&amp;L</th>\n",
       "      <th>Starndard Dev. of P&amp;L</th>\n",
       "      <th>St Dev of P&amp;L as  % of option premium</th>\n",
       "    </tr>\n",
       "  </thead>\n",
       "  <tbody>\n",
       "    <tr>\n",
       "      <th>0</th>\n",
       "      <td>21</td>\n",
       "      <td>-0.137036</td>\n",
       "      <td>0.425103</td>\n",
       "      <td>16.922428</td>\n",
       "    </tr>\n",
       "    <tr>\n",
       "      <th>1</th>\n",
       "      <td>84</td>\n",
       "      <td>-0.136988</td>\n",
       "      <td>0.216919</td>\n",
       "      <td>8.635093</td>\n",
       "    </tr>\n",
       "  </tbody>\n",
       "</table>\n",
       "</div>"
      ],
      "text/plain": [
       "   Number of Trades  Mean P&L  Starndard Dev. of P&L  \\\n",
       "0                21 -0.137036               0.425103   \n",
       "1                84 -0.136988               0.216919   \n",
       "\n",
       "   St Dev of P&L as  % of option premium  \n",
       "0                              16.922428  \n",
       "1                               8.635093  "
      ]
     },
     "execution_count": 5,
     "metadata": {},
     "output_type": "execute_result"
    }
   ],
   "source": [
    "df = pd.DataFrame({'Number of Trades':[21 , 84],\n",
    "                  'Mean P&L':[mean_1, mean_2],\n",
    "                  'Starndard Dev. of P&L':[std_1, std_2],\n",
    "                  'St Dev of P&L as  % of option premium':[proportion_1*100, proportion_2*100]\n",
    "                  }\n",
    "                 )\n",
    "                 \n",
    "df"
   ]
  }
 ],
 "metadata": {
  "kernelspec": {
   "display_name": "Python 3 (ipykernel)",
   "language": "python",
   "name": "python3"
  },
  "language_info": {
   "codemirror_mode": {
    "name": "ipython",
    "version": 3
   },
   "file_extension": ".py",
   "mimetype": "text/x-python",
   "name": "python",
   "nbconvert_exporter": "python",
   "pygments_lexer": "ipython3",
   "version": "3.9.7"
  }
 },
 "nbformat": 4,
 "nbformat_minor": 5
}
