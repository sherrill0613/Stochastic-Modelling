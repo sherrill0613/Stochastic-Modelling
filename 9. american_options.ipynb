{
 "cells": [
  {
   "cell_type": "markdown",
   "metadata": {},
   "source": [
    "In this Jupyter-Notebook we shall take a look at how to extract the early exercise premium of American options. Recall that the Black-Scholes formula for vanilla call and put options are only applicable for European exercise type. First, we reproduce the Black-Scholes formula for European call and put options."
   ]
  },
  {
   "cell_type": "code",
   "execution_count": 3,
   "metadata": {},
   "outputs": [],
   "source": [
    "import numpy as np\n",
    "from scipy.stats import norm\n",
    "\n",
    "\n",
    "def BlackScholesCall(S, K, r, sigma, T):\n",
    "    d1 = (np.log(S/K)+(r+sigma**2/2)*T) / (sigma*np.sqrt(T))\n",
    "    d2 = d1 - sigma*np.sqrt(T)\n",
    "    return S*norm.cdf(d1) - K*np.exp(-r*T)*norm.cdf(d2)\n",
    "\n",
    "\n",
    "def BlackScholesPut(S, K, r, sigma, T):\n",
    "    d1 = (np.log(S/K)+(r+sigma**2/2)*T) / (sigma*np.sqrt(T))\n",
    "    d2 = d1 - sigma*np.sqrt(T)\n",
    "    return K*np.exp(-r*T)*norm.cdf(-d2) - S*norm.cdf(-d1)\n"
   ]
  },
  {
   "cell_type": "markdown",
   "metadata": {},
   "source": [
    "For American exercise type, we can no longer use the analytical formula provided by Black and Scholes. However, the binomial tree model we have covered in the earlier sessions can handle American options, through the \"backward induction\" method. In Session 1 and 2, we have looked at examples pricing American and European vanilla options under the binomial tree model.\n",
    "\n",
    "In this notebook, we shall first implement the binomial tree model for both American and European vanilla options. Recall in Session 2 Additional Example Question 7's discussion that the $u$ and $d$ parameters in the binomial tree model is related to the Black-Scholes model's sigma through the equation\n",
    "\\begin{equation*}\n",
    "    u = e^{\\sigma \\sqrt{\\Delta t}}, \\hspace{1cm} d = \\frac{1}{u} = e^{-\\sigma \\sqrt{\\Delta t}}\n",
    "\\end{equation*}"
   ]
  },
  {
   "cell_type": "code",
   "execution_count": 1,
   "metadata": {},
   "outputs": [],
   "source": [
    "import array\n",
    "\n",
    "\n",
    "def american_put(S, K, r, sigma, T, steps):\n",
    "    R = (1+r)**(T/steps)\n",
    "    u = np.exp(sigma*np.sqrt(T/steps))\n",
    "    uu = u*u\n",
    "    d = 1.0/u\n",
    "    p_up = (R-d)/(u-d)\n",
    "    p_down = 1.0-p_up\n",
    "    prices = array.array('d', (0 for i in range(0, steps+1)))\n",
    "    prices[0] = S*pow(d, steps)\n",
    "\n",
    "    for i in range(1, steps+1):\n",
    "        prices[i] = uu*prices[i-1]\n",
    "\n",
    "    put_values = array.array('d', (0 for i in range(0, steps+1)))\n",
    "\n",
    "    for i in range(0, steps+1):\n",
    "        put_values[i] = max(0.0, (K-prices[i]))\n",
    "\n",
    "    for step in range(steps-1, -1, -1):\n",
    "        for i in range(0, step+1):\n",
    "            put_values[i] = (p_up*put_values[i+1]+p_down*put_values[i])/R\n",
    "            prices[i] = d*prices[i+1]\n",
    "            put_values[i] = max(put_values[i], (K-prices[i]))\n",
    "    return put_values[0]\n",
    "\n",
    "\n",
    "def european_put(S, K, r, sigma, T, steps):\n",
    "    R = (1+r)**(T/steps)\n",
    "    u = np.exp(sigma*np.sqrt(T/steps))\n",
    "    uu = u*u\n",
    "    d = 1.0/u\n",
    "    p_up = (R-d)/(u-d)\n",
    "    p_down = 1.0-p_up\n",
    "    prices = array.array('d', (0 for i in range(0, steps+1)))\n",
    "    prices[0] = S*pow(d, steps)\n",
    "\n",
    "    for i in range(1, steps+1):\n",
    "        prices[i] = uu*prices[i-1]\n",
    "\n",
    "    put_values = array.array('d', (0 for i in range(0, steps+1)))\n",
    "\n",
    "    for i in range(0, steps+1):\n",
    "        put_values[i] = max(0.0, (K-prices[i]))\n",
    "\n",
    "    for step in range(steps-1, -1, -1):\n",
    "        for i in range(0, step+1):\n",
    "            put_values[i] = (p_up*put_values[i+1]+p_down*put_values[i])/R\n",
    "            prices[i] = d*prices[i+1]\n",
    "    return put_values[0]\n",
    "\n",
    "\n",
    "def american_call(S, K, r, sigma, T, steps):\n",
    "    R = (1+r)**(T/steps)\n",
    "    u = np.exp(sigma*np.sqrt(T/steps))\n",
    "    d = 1.0/u\n",
    "    p_up = (R-d)/(u-d)\n",
    "    p_down = 1.0-p_up\n",
    "\n",
    "    prices = array.array('d', (0 for i in range(0, steps+1)))\n",
    "\n",
    "    prices[0] = S*pow(d, steps)\n",
    "    uu = u*u\n",
    "    for i in range(1, steps+1):\n",
    "        prices[i] = uu*prices[i-1]\n",
    "\n",
    "    call_values = array.array('d', (0 for i in range(0, steps+1)))\n",
    "    for i in range(0, steps+1):\n",
    "        call_values[i] = max(0.0, (prices[i]-K))\n",
    "\n",
    "    for step in range(steps-1, -1, -1):\n",
    "        for i in range(0, step+1):\n",
    "            call_values[i] = (p_up*call_values[i+1]+p_down*call_values[i])/R\n",
    "            prices[i] = d*prices[i+1]\n",
    "            call_values[i] = max(call_values[i], 1.0*(prices[i]-K))\n",
    "\n",
    "    return call_values[0]\n",
    "\n",
    "\n",
    "def european_call(S, K, r, sigma, T, steps):\n",
    "    R = (1+r)**(T/steps)\n",
    "    u = np.exp(sigma*np.sqrt(T/steps))\n",
    "    d = 1.0/u\n",
    "    p_up = (R-d)/(u-d)\n",
    "    p_down = 1.0-p_up\n",
    "\n",
    "    # price of underlying\n",
    "    prices = array.array('d', (0 for i in range(0, steps+1)))\n",
    "\n",
    "    # fill in the endnodes\n",
    "    prices[0] = S*pow(d, steps)\n",
    "    uu = u*u\n",
    "    for i in range(1, steps+1):\n",
    "        prices[i] = uu*prices[i-1]\n",
    "\n",
    "    call_values = array.array('d', (0 for i in range(0, steps+1)))\n",
    "    for i in range(0, steps+1):\n",
    "        call_values[i] = max(0.0, (prices[i]-K))\n",
    "\n",
    "    for step in range(steps-1, -1, -1):\n",
    "        for i in range(0, step+1):\n",
    "            call_values[i] = (p_up*call_values[i+1]+p_down*call_values[i])/R\n",
    "            prices[i] = d*prices[i+1]\n",
    "\n",
    "    return call_values[0]\n",
    "\n"
   ]
  },
  {
   "cell_type": "markdown",
   "metadata": {},
   "source": [
    "Let us try out our binomial tree implementation on Q2 of Session 2's Additional Examples. Consider a 3-step binomial tree with parameters $S_0=4$, $u=2$, $d=\\frac{1}{u}$, $r=0.25$, maturing at time $T=3$, and $K=10$. According to our formula, we have\n",
    "\n",
    "\\begin{equation*}\n",
    "\\sigma = \\log(u) \\times \\frac{1}{\\sqrt{\\Delta t}} = \\log(2) \\times \\frac{1}{\\sqrt{\\frac{3}{3}}} = \\log(2)\n",
    "\\end{equation*}"
   ]
  },
  {
   "cell_type": "code",
   "execution_count": 4,
   "metadata": {},
   "outputs": [],
   "source": [
    "S = 4.0\n",
    "K = 10.0\n",
    "r = 0.25\n",
    "T = 3.0\n",
    "steps = 3\n",
    "sigma = np.log(2)"
   ]
  },
  {
   "cell_type": "code",
   "execution_count": 5,
   "metadata": {},
   "outputs": [
    {
     "name": "stdout",
     "output_type": "stream",
     "text": [
      "American Call price: 1.4080\n",
      "European Call price: 1.4080\n",
      "American Put price: 6.0000\n",
      "European Put price: 2.5280\n"
     ]
    }
   ],
   "source": [
    "print('American Call price: %.4f' % american_call(S, K, r, sigma, T, steps))\n",
    "print('European Call price: %.4f' % european_call(S, K, r, sigma, T, steps))\n",
    "print('American Put price: %.4f' % american_put(S, K, r, sigma, T, steps))\n",
    "print('European Put price: %.4f' % european_put(S, K, r, sigma, T, steps))"
   ]
  },
  {
   "cell_type": "markdown",
   "metadata": {},
   "source": [
    "Next, let us compare the how well do these binomial tree model implementation match the prices from the Black-Scholes formula. To this end, we need to use a significantly larger number of steps in order for the Law of Large Number to apply.\n",
    "\n",
    "We shall also use more sensible market parameters."
   ]
  },
  {
   "cell_type": "code",
   "execution_count": 6,
   "metadata": {},
   "outputs": [
    {
     "name": "stdout",
     "output_type": "stream",
     "text": [
      "European Call (binomial tree) price: 0.4261\n",
      "European Put (binomial tree) price: 0.1880\n",
      "European Call (Black-Scholes) price: 0.4296\n",
      "European Put (Black-Scholes) price: 0.1857\n"
     ]
    }
   ],
   "source": [
    "r = 0.05\n",
    "T = 1.0\n",
    "K = 5.0\n",
    "S = 5.0\n",
    "sigma = 0.15\n",
    "steps = 2000\n",
    "print('European Call (binomial tree) price: %.4f' % european_call(S, K, r, sigma, T, steps))\n",
    "print('European Put (binomial tree) price: %.4f' % european_put(S, K, r, sigma, T, steps))\n",
    "print('European Call (Black-Scholes) price: %.4f' % BlackScholesCall(S, K, r, sigma, T))\n",
    "print('European Put (Black-Scholes) price: %.4f' % BlackScholesPut(S, K, r, sigma, T))"
   ]
  },
  {
   "cell_type": "code",
   "execution_count": null,
   "metadata": {},
   "outputs": [],
   "source": []
  }
 ],
 "metadata": {
  "kernelspec": {
   "display_name": "Python 3",
   "language": "python",
   "name": "python3"
  },
  "language_info": {
   "codemirror_mode": {
    "name": "ipython",
    "version": 3
   },
   "file_extension": ".py",
   "mimetype": "text/x-python",
   "name": "python",
   "nbconvert_exporter": "python",
   "pygments_lexer": "ipython3",
   "version": "3.8.8"
  }
 },
 "nbformat": 4,
 "nbformat_minor": 2
}
